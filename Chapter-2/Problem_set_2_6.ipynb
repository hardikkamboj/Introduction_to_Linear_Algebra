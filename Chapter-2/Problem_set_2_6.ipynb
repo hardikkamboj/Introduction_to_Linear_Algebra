{
 "cells": [
  {
   "cell_type": "code",
   "execution_count": 22,
   "id": "a9f894d6",
   "metadata": {},
   "outputs": [],
   "source": [
    "import numpy as np\n",
    "import scipy.linalg as linalg"
   ]
  },
  {
   "cell_type": "markdown",
   "id": "1f4d7ba3",
   "metadata": {},
   "source": [
    "### Problem 25 For the 6 by 6 second diggerence constan-diagonal matrix K, put the pivots and multipliers into K=LU. (L and U will have only two nonzero diagonals, because K has 3). Find a formula for the i,j entry of L-1, by software like MATLAB using inv(L) or by looking for a nice pattern"
   ]
  },
  {
   "cell_type": "code",
   "execution_count": 26,
   "id": "cbb30633",
   "metadata": {},
   "outputs": [
    {
     "name": "stdout",
     "output_type": "stream",
     "text": [
      "[[ 2 -1  0  0  0  0]\n",
      " [-1  2 -1  0  0  0]\n",
      " [ 0 -1  2 -1  0  0]\n",
      " [ 0  0 -1  2 -1  0]\n",
      " [ 0  0  0 -1  2 -1]\n",
      " [ 0  0  0  0 -1  2]]\n"
     ]
    }
   ],
   "source": [
    "K = linalg.toeplitz([2, -1, 0, 0, 0, 0])\n",
    "\n",
    "print(K)"
   ]
  },
  {
   "cell_type": "code",
   "execution_count": 28,
   "id": "e20e71eb",
   "metadata": {},
   "outputs": [
    {
     "name": "stdout",
     "output_type": "stream",
     "text": [
      "[[0.85714286 0.71428571 0.57142857 0.42857143 0.28571429 0.14285714]\n",
      " [0.71428571 1.42857143 1.14285714 0.85714286 0.57142857 0.28571429]\n",
      " [0.57142857 1.14285714 1.71428571 1.28571429 0.85714286 0.42857143]\n",
      " [0.42857143 0.85714286 1.28571429 1.71428571 1.14285714 0.57142857]\n",
      " [0.28571429 0.57142857 0.85714286 1.14285714 1.42857143 0.71428571]\n",
      " [0.14285714 0.28571429 0.42857143 0.57142857 0.71428571 0.85714286]]\n"
     ]
    }
   ],
   "source": [
    "K_inv = linalg.inv(K)\n",
    "\n",
    "print(K_inv)"
   ]
  },
  {
   "cell_type": "markdown",
   "id": "7c5e56d5",
   "metadata": {},
   "source": [
    "### Problem 26: If you print K-1, it doesn't look so good. But if you print 7K-1, that matrix looks wonderful"
   ]
  },
  {
   "cell_type": "code",
   "execution_count": 31,
   "id": "3cc15b00",
   "metadata": {},
   "outputs": [
    {
     "data": {
      "text/plain": [
       "array([[ 6.,  5.,  4.,  3.,  2.,  1.],\n",
       "       [ 5., 10.,  8.,  6.,  4.,  2.],\n",
       "       [ 4.,  8., 12.,  9.,  6.,  3.],\n",
       "       [ 3.,  6.,  9., 12.,  8.,  4.],\n",
       "       [ 2.,  4.,  6.,  8., 10.,  5.],\n",
       "       [ 1.,  2.,  3.,  4.,  5.,  6.]])"
      ]
     },
     "execution_count": 31,
     "metadata": {},
     "output_type": "execute_result"
    }
   ],
   "source": [
    "7*K_inv"
   ]
  },
  {
   "cell_type": "markdown",
   "id": "a54e2ab6",
   "metadata": {},
   "source": [
    "It indeed looks wonderful : D "
   ]
  }
 ],
 "metadata": {
  "kernelspec": {
   "display_name": "algebra_env",
   "language": "python",
   "name": "algebra_env"
  },
  "language_info": {
   "codemirror_mode": {
    "name": "ipython",
    "version": 3
   },
   "file_extension": ".py",
   "mimetype": "text/x-python",
   "name": "python",
   "nbconvert_exporter": "python",
   "pygments_lexer": "ipython3",
   "version": "3.8.5"
  }
 },
 "nbformat": 4,
 "nbformat_minor": 5
}
