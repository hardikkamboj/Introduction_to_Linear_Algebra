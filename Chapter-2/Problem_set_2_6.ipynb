{
 "cells": [
  {
   "cell_type": "code",
   "execution_count": 1,
   "id": "a9f894d6",
   "metadata": {},
   "outputs": [],
   "source": [
    "import numpy as np"
   ]
  },
  {
   "cell_type": "markdown",
   "id": "2a1a9892",
   "metadata": {},
   "source": [
    "### Problem 25 For the 6 by 6 second diggerence constan-diagonal matrix K, put the pivots and multipliers into K=LU. (L and U will have only two nonzero diagonals, because K has 3). Find a formula for the i,j entry of L-1, by software like MATLAB using inv(L) or by looking for a nice pattern"
   ]
  },
  {
   "cell_type": "code",
   "execution_count": 8,
   "id": "c154f249",
   "metadata": {},
   "outputs": [],
   "source": [
    "L = np.array([[ 2, -1,  0,  0,  0,  0], \n",
    "             [-1,  2, -1,  0,  0,  0], \n",
    "             [ 0, -1,  2, -1,  0,  0],\n",
    "             [ 0,  0, -1,  2, -1,  0],\n",
    "             [ 0,  0,  0, -1,  2, -1],\n",
    "             [ 0,  0,  0,  0, -1, -2]])"
   ]
  },
  {
   "cell_type": "code",
   "execution_count": 9,
   "id": "316b09fb",
   "metadata": {},
   "outputs": [
    {
     "name": "stdout",
     "output_type": "stream",
     "text": [
      "[[ 2 -1  0  0  0  0]\n",
      " [-1  2 -1  0  0  0]\n",
      " [ 0 -1  2 -1  0  0]\n",
      " [ 0  0 -1  2 -1  0]\n",
      " [ 0  0  0 -1  2 -1]\n",
      " [ 0  0  0  0 -1 -2]]\n"
     ]
    }
   ],
   "source": [
    "print(L)"
   ]
  },
  {
   "cell_type": "code",
   "execution_count": 10,
   "id": "79166661",
   "metadata": {},
   "outputs": [
    {
     "data": {
      "text/plain": [
       "array([[-3,  0, -1, -1, -1, -1],\n",
       "       [ 0, -3,  0, -1, -1, -1],\n",
       "       [-1,  0, -3,  0, -1, -1],\n",
       "       [-1, -1,  0, -3,  0, -1],\n",
       "       [-1, -1, -1,  0, -3,  0],\n",
       "       [-1, -1, -1, -1,  0,  1]])"
      ]
     },
     "execution_count": 10,
     "metadata": {},
     "output_type": "execute_result"
    }
   ],
   "source": [
    "np.invert(L)"
   ]
  },
  {
   "cell_type": "markdown",
   "id": "26996e38",
   "metadata": {},
   "source": [
    "## Pattern for L inv"
   ]
  },
  {
   "cell_type": "code",
   "execution_count": 7,
   "id": "4c4347b0",
   "metadata": {},
   "outputs": [
    {
     "data": {
      "text/plain": [
       "(5, 6)"
      ]
     },
     "execution_count": 7,
     "metadata": {},
     "output_type": "execute_result"
    }
   ],
   "source": [
    "L.shape"
   ]
  },
  {
   "cell_type": "code",
   "execution_count": 11,
   "id": "8634dbe8",
   "metadata": {},
   "outputs": [],
   "source": [
    "def L_inv(L):\n",
    "    h, w = L.shape\n",
    "    A = np.zeros_like(L)\n",
    "    \n",
    "    for i in range(h):\n",
    "        for j in range(w):\n",
    "            if i == j:\n",
    "                A[i][j] = -3 \n",
    "            elif abs(i-j) == 1:\n",
    "                A[i][j] = 0\n",
    "            else:\n",
    "                A[i][j] = -1\n",
    "    return A"
   ]
  },
  {
   "cell_type": "code",
   "execution_count": 12,
   "id": "3d2ead86",
   "metadata": {},
   "outputs": [
    {
     "name": "stdout",
     "output_type": "stream",
     "text": [
      "[[-3  0 -1 -1 -1 -1]\n",
      " [ 0 -3  0 -1 -1 -1]\n",
      " [-1  0 -3  0 -1 -1]\n",
      " [-1 -1  0 -3  0 -1]\n",
      " [-1 -1 -1  0 -3  0]\n",
      " [-1 -1 -1 -1  0 -3]]\n"
     ]
    }
   ],
   "source": [
    "print(L_inv(L))"
   ]
  },
  {
   "cell_type": "code",
   "execution_count": null,
   "id": "99f6584e",
   "metadata": {},
   "outputs": [],
   "source": []
  }
 ],
 "metadata": {
  "kernelspec": {
   "display_name": "algebra_env",
   "language": "python",
   "name": "algebra_env"
  },
  "language_info": {
   "codemirror_mode": {
    "name": "ipython",
    "version": 3
   },
   "file_extension": ".py",
   "mimetype": "text/x-python",
   "name": "python",
   "nbconvert_exporter": "python",
   "pygments_lexer": "ipython3",
   "version": "3.8.5"
  }
 },
 "nbformat": 4,
 "nbformat_minor": 5
}
