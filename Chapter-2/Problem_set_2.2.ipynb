{
 "cells": [
  {
   "cell_type": "markdown",
   "id": "3bcf2903",
   "metadata": {},
   "source": [
    "## Problem 28: Create a MATLAB command A(2, :) = ... for the new row 2, to subtract 3 times row 1 from the existing row 2 if the matrix A is already known. "
   ]
  },
  {
   "cell_type": "code",
   "execution_count": 1,
   "id": "0a02feff",
   "metadata": {},
   "outputs": [],
   "source": [
    "import numpy as np "
   ]
  },
  {
   "cell_type": "code",
   "execution_count": 15,
   "id": "4b28c6fd",
   "metadata": {},
   "outputs": [
    {
     "name": "stdout",
     "output_type": "stream",
     "text": [
      "[[1 2 3]\n",
      " [4 5 6]\n",
      " [7 8 9]]\n"
     ]
    }
   ],
   "source": [
    "# create any matrix\n",
    "\n",
    "A = np.array([[1, 2, 3], \n",
    "             [4, 5, 6], \n",
    "            [7, 8, 9]])\n",
    "\n",
    "print(A)"
   ]
  },
  {
   "cell_type": "code",
   "execution_count": 16,
   "id": "d27588fb",
   "metadata": {},
   "outputs": [],
   "source": [
    "A[1, :] = A[1, :] - 3*A[0, :] # since python indexing starts from 0"
   ]
  },
  {
   "cell_type": "code",
   "execution_count": 17,
   "id": "5eab8a10",
   "metadata": {},
   "outputs": [
    {
     "name": "stdout",
     "output_type": "stream",
     "text": [
      "[[ 1  2  3]\n",
      " [ 1 -1 -3]\n",
      " [ 7  8  9]]\n"
     ]
    }
   ],
   "source": [
    "print(A)"
   ]
  },
  {
   "cell_type": "markdown",
   "id": "967a66c6",
   "metadata": {},
   "source": [
    "## Problem 29: Find experimentally the average 1st, 2nd, and 3rd pivot sixes from MATLAB's [L, U] = lu(rand(3)). The average size abs(U(1, 1)) is above 1/2 because lu picks the largest available pivot in column 1. Here A = rand(3) has random enteries between 0 and 1. "
   ]
  },
  {
   "cell_type": "code",
   "execution_count": 20,
   "id": "3df0cdc2",
   "metadata": {},
   "outputs": [],
   "source": [
    "import scipy.linalg"
   ]
  },
  {
   "cell_type": "code",
   "execution_count": 25,
   "id": "bcb84907",
   "metadata": {},
   "outputs": [
    {
     "name": "stdout",
     "output_type": "stream",
     "text": [
      "Average value of first pivot  -  0.7529032934680416\n",
      "Average value of second pivot -  0.35997730362058733\n",
      "Average value of third pivot  -  0.19425264111272766\n"
     ]
    }
   ],
   "source": [
    "first_pivots = []\n",
    "second_pivots = []\n",
    "third_pivots = []\n",
    "\n",
    "for _ in range(1000):\n",
    "    A = np.random.rand(3,3)\n",
    "    P, L, U = scipy.linalg.lu(A)\n",
    "    first_pivots.append(U[0,0])\n",
    "    second_pivots.append(U[1,1])\n",
    "    third_pivots.append(U[2,2])\n",
    "print(\"Average value of first pivot  - \", sum(first_pivots) / len(first_pivots))\n",
    "print(\"Average value of second pivot - \", sum(second_pivots) / len(second_pivots))\n",
    "print(\"Average value of third pivot  - \", sum(third_pivots) / len(third_pivots))\n"
   ]
  },
  {
   "cell_type": "markdown",
   "id": "d212737b",
   "metadata": {},
   "source": [
    "The pivots are in the decreasing order as mentioned in the question."
   ]
  },
  {
   "cell_type": "code",
   "execution_count": null,
   "id": "606c09c8",
   "metadata": {},
   "outputs": [],
   "source": []
  }
 ],
 "metadata": {
  "kernelspec": {
   "display_name": "Python 3 (ipykernel)",
   "language": "python",
   "name": "python3"
  },
  "language_info": {
   "codemirror_mode": {
    "name": "ipython",
    "version": 3
   },
   "file_extension": ".py",
   "mimetype": "text/x-python",
   "name": "python",
   "nbconvert_exporter": "python",
   "pygments_lexer": "ipython3",
   "version": "3.8.5"
  }
 },
 "nbformat": 4,
 "nbformat_minor": 5
}
