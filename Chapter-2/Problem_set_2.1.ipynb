{
 "cells": [
  {
   "cell_type": "code",
   "execution_count": 74,
   "id": "ced59c53",
   "metadata": {},
   "outputs": [],
   "source": [
    "import numpy as np\n",
    "import matplotlib.pyplot as plt"
   ]
  },
  {
   "cell_type": "markdown",
   "id": "515f2c25",
   "metadata": {},
   "source": [
    "# Problem - 23\n",
    "\n",
    "### In Matlab notation, write the commands that define this matrix A and the column vectors x and b. What command would test whether or not Ax=b?"
   ]
  },
  {
   "cell_type": "code",
   "execution_count": 6,
   "id": "05f5d07c",
   "metadata": {},
   "outputs": [],
   "source": [
    "A = np.array([[1, 2], \n",
    "             [3, 4]])\n",
    "\n",
    "x = np.array([5, -2])\n",
    "\n",
    "b = np.array([1, 7])"
   ]
  },
  {
   "cell_type": "code",
   "execution_count": 13,
   "id": "7a1ca3a4",
   "metadata": {},
   "outputs": [
    {
     "data": {
      "text/plain": [
       "True"
      ]
     },
     "execution_count": 13,
     "metadata": {},
     "output_type": "execute_result"
    }
   ],
   "source": [
    "# command to check whether Ax is equal to b\n",
    "(np.dot(A,x) == b).all()"
   ]
  },
  {
   "cell_type": "markdown",
   "id": "cf3b73a3",
   "metadata": {},
   "source": [
    "# Problem - 24\n",
    "\n",
    "### The MATLAB commands A = eye(3) and v = [3:5] (transpose)  produce the 3 by 3 identity matrix and column vector (3,4,5). What are the outputs from A*v and v(transpose)*v? "
   ]
  },
  {
   "cell_type": "code",
   "execution_count": 14,
   "id": "af97eebc",
   "metadata": {},
   "outputs": [
    {
     "name": "stdout",
     "output_type": "stream",
     "text": [
      "[[1. 0. 0.]\n",
      " [0. 1. 0.]\n",
      " [0. 0. 1.]]\n"
     ]
    }
   ],
   "source": [
    "A = np.eye(3)\n",
    "\n",
    "print(A)"
   ]
  },
  {
   "cell_type": "code",
   "execution_count": 30,
   "id": "9553e114",
   "metadata": {},
   "outputs": [
    {
     "name": "stdout",
     "output_type": "stream",
     "text": [
      "[[3]\n",
      " [4]\n",
      " [5]]\n"
     ]
    }
   ],
   "source": [
    "v = np.transpose(np.array([[3,4,5]]))\n",
    "\n",
    "print(v)"
   ]
  },
  {
   "cell_type": "code",
   "execution_count": 31,
   "id": "3edb1c0f",
   "metadata": {},
   "outputs": [
    {
     "data": {
      "text/plain": [
       "array([[3.],\n",
       "       [4.],\n",
       "       [5.]])"
      ]
     },
     "execution_count": 31,
     "metadata": {},
     "output_type": "execute_result"
    }
   ],
   "source": [
    "# A*v\n",
    "\n",
    "np.dot(A, v)"
   ]
  },
  {
   "cell_type": "code",
   "execution_count": 32,
   "id": "8a753534",
   "metadata": {},
   "outputs": [
    {
     "data": {
      "text/plain": [
       "array([[50]])"
      ]
     },
     "execution_count": 32,
     "metadata": {},
     "output_type": "execute_result"
    }
   ],
   "source": [
    "# transpose(v) * v\n",
    "\n",
    "np.dot(np.transpose(v), v)"
   ]
  },
  {
   "cell_type": "markdown",
   "id": "d83ce661",
   "metadata": {},
   "source": [
    "### If you ask for v*A, what happens?"
   ]
  },
  {
   "cell_type": "code",
   "execution_count": 33,
   "id": "2bf799fc",
   "metadata": {},
   "outputs": [
    {
     "ename": "ValueError",
     "evalue": "shapes (3,1) and (3,3) not aligned: 1 (dim 1) != 3 (dim 0)",
     "output_type": "error",
     "traceback": [
      "\u001b[0;31m---------------------------------------------------------------------------\u001b[0m",
      "\u001b[0;31mValueError\u001b[0m                                Traceback (most recent call last)",
      "\u001b[0;32m/var/folders/r4/rydmyytn6q1fyl58zgvg8qp80000gn/T/ipykernel_18605/3860862657.py\u001b[0m in \u001b[0;36m<module>\u001b[0;34m\u001b[0m\n\u001b[1;32m      1\u001b[0m \u001b[0;31m# v*A\u001b[0m\u001b[0;34m\u001b[0m\u001b[0;34m\u001b[0m\u001b[0;34m\u001b[0m\u001b[0m\n\u001b[1;32m      2\u001b[0m \u001b[0;34m\u001b[0m\u001b[0m\n\u001b[0;32m----> 3\u001b[0;31m \u001b[0mnp\u001b[0m\u001b[0;34m.\u001b[0m\u001b[0mdot\u001b[0m\u001b[0;34m(\u001b[0m\u001b[0mv\u001b[0m\u001b[0;34m,\u001b[0m \u001b[0mA\u001b[0m\u001b[0;34m)\u001b[0m\u001b[0;34m\u001b[0m\u001b[0;34m\u001b[0m\u001b[0m\n\u001b[0m",
      "\u001b[0;32m<__array_function__ internals>\u001b[0m in \u001b[0;36mdot\u001b[0;34m(*args, **kwargs)\u001b[0m\n",
      "\u001b[0;31mValueError\u001b[0m: shapes (3,1) and (3,3) not aligned: 1 (dim 1) != 3 (dim 0)"
     ]
    }
   ],
   "source": [
    "# v*A - will give an error as v.shape is (3,1) and A.shape is (3,3)\n",
    "\n",
    "np.dot(v, A)"
   ]
  },
  {
   "cell_type": "markdown",
   "id": "f53456a8",
   "metadata": {},
   "source": [
    "# Problem-25 \n",
    "\n",
    "### If you multiply the 4 by 4 all-ones matrix A = ones(4) and the column v=np.ones(4,1) , what is A*v? "
   ]
  },
  {
   "cell_type": "code",
   "execution_count": 41,
   "id": "71c278db",
   "metadata": {},
   "outputs": [
    {
     "name": "stdout",
     "output_type": "stream",
     "text": [
      "[[1. 1. 1. 1.]\n",
      " [1. 1. 1. 1.]\n",
      " [1. 1. 1. 1.]\n",
      " [1. 1. 1. 1.]]\n"
     ]
    }
   ],
   "source": [
    "A = np.ones((4,4)) # equivalent to command ones(4) in MATLAB\n",
    "\n",
    "print(A)"
   ]
  },
  {
   "cell_type": "code",
   "execution_count": 42,
   "id": "2acf339b",
   "metadata": {},
   "outputs": [
    {
     "name": "stdout",
     "output_type": "stream",
     "text": [
      "[[1.]\n",
      " [1.]\n",
      " [1.]\n",
      " [1.]]\n"
     ]
    }
   ],
   "source": [
    "v = np.ones((4,1))\n",
    "\n",
    "print(v)"
   ]
  },
  {
   "cell_type": "code",
   "execution_count": 43,
   "id": "91f07474",
   "metadata": {},
   "outputs": [
    {
     "data": {
      "text/plain": [
       "array([[4.],\n",
       "       [4.],\n",
       "       [4.],\n",
       "       [4.]])"
      ]
     },
     "execution_count": 43,
     "metadata": {},
     "output_type": "execute_result"
    }
   ],
   "source": [
    "np.dot(A, v)"
   ]
  },
  {
   "cell_type": "markdown",
   "id": "3f4eafbf",
   "metadata": {},
   "source": [
    "### If you multiply B = eye(4) + ones(4) timse w = zeroes(4,1) + 2*(ones(4,1)), what is B*w?"
   ]
  },
  {
   "cell_type": "code",
   "execution_count": 47,
   "id": "9136700a",
   "metadata": {},
   "outputs": [
    {
     "name": "stdout",
     "output_type": "stream",
     "text": [
      "[[2. 1. 1. 1.]\n",
      " [1. 2. 1. 1.]\n",
      " [1. 1. 2. 1.]\n",
      " [1. 1. 1. 2.]]\n"
     ]
    }
   ],
   "source": [
    "B = np.eye(4) + np.ones((4,4))\n",
    "\n",
    "print(B)"
   ]
  },
  {
   "cell_type": "code",
   "execution_count": 50,
   "id": "40de8eef",
   "metadata": {},
   "outputs": [],
   "source": [
    "w = np.zeros((4,1)) + 2*np.ones((4,1))"
   ]
  },
  {
   "cell_type": "code",
   "execution_count": 53,
   "id": "ff3cc67c",
   "metadata": {},
   "outputs": [
    {
     "name": "stdout",
     "output_type": "stream",
     "text": [
      "[[2.]\n",
      " [2.]\n",
      " [2.]\n",
      " [2.]]\n"
     ]
    }
   ],
   "source": [
    "print(w)"
   ]
  },
  {
   "cell_type": "code",
   "execution_count": 54,
   "id": "775f4b21",
   "metadata": {},
   "outputs": [
    {
     "data": {
      "text/plain": [
       "array([[10.],\n",
       "       [10.],\n",
       "       [10.],\n",
       "       [10.]])"
      ]
     },
     "execution_count": 54,
     "metadata": {},
     "output_type": "execute_result"
    }
   ],
   "source": [
    "np.dot(B, w)"
   ]
  },
  {
   "cell_type": "markdown",
   "id": "781be8b0",
   "metadata": {},
   "source": [
    "# Problem-30\n",
    "\n",
    "### Continue problem 29 from u0 = (1,0) to u7, and also from v0 to v7? What do you notice about u7 and v7? "
   ]
  },
  {
   "cell_type": "code",
   "execution_count": 67,
   "id": "a4b4e508",
   "metadata": {},
   "outputs": [],
   "source": [
    "# for u \n",
    "\n",
    "u = np.array([0, 1])\n",
    "list_u = [u]\n",
    "A = np.array([[0.8, 0.3], [0.2, 0.7]])\n",
    "\n",
    "for i in range(7):\n",
    "    u = np.dot(A, u)\n",
    "    list_u.append(u)\n",
    "\n",
    "list_u = np.array(list_u)"
   ]
  },
  {
   "cell_type": "code",
   "execution_count": 68,
   "id": "7ac57e9a",
   "metadata": {},
   "outputs": [
    {
     "name": "stdout",
     "output_type": "stream",
     "text": [
      "[[0.        1.       ]\n",
      " [0.3       0.7      ]\n",
      " [0.45      0.55     ]\n",
      " [0.525     0.475    ]\n",
      " [0.5625    0.4375   ]\n",
      " [0.58125   0.41875  ]\n",
      " [0.590625  0.409375 ]\n",
      " [0.5953125 0.4046875]]\n"
     ]
    }
   ],
   "source": [
    "print(list_u)"
   ]
  },
  {
   "cell_type": "code",
   "execution_count": 69,
   "id": "c01d4215",
   "metadata": {},
   "outputs": [],
   "source": [
    "# for v \n",
    "\n",
    "v = np.array([1, 0])\n",
    "list_v = [v]\n",
    "A = np.array([[0.8, 0.3], [0.2, 0.7]])\n",
    "\n",
    "for i in range(7):\n",
    "    v = np.dot(A, v)\n",
    "    list_v.append(v)\n",
    "    \n",
    "list_v = np.array(list_v)"
   ]
  },
  {
   "cell_type": "code",
   "execution_count": 70,
   "id": "3f9629f7",
   "metadata": {},
   "outputs": [
    {
     "name": "stdout",
     "output_type": "stream",
     "text": [
      "[[1.       0.      ]\n",
      " [0.8      0.2     ]\n",
      " [0.7      0.3     ]\n",
      " [0.65     0.35    ]\n",
      " [0.625    0.375   ]\n",
      " [0.6125   0.3875  ]\n",
      " [0.60625  0.39375 ]\n",
      " [0.603125 0.396875]]\n"
     ]
    }
   ],
   "source": [
    "print(list_v)"
   ]
  },
  {
   "cell_type": "markdown",
   "id": "9bfb6939",
   "metadata": {},
   "source": [
    "Both of the values saturate at (0.6, 0.4)"
   ]
  },
  {
   "cell_type": "code",
   "execution_count": 90,
   "id": "9a1ddde4",
   "metadata": {},
   "outputs": [
    {
     "data": {
      "text/plain": [
       "<matplotlib.legend.Legend at 0x7fbb8818a220>"
      ]
     },
     "execution_count": 90,
     "metadata": {},
     "output_type": "execute_result"
    },
    {
     "data": {
      "image/png": "[encoded data removed]",
      "text/plain": [
       "<Figure size 864x576 with 1 Axes>"
      ]
     },
     "metadata": {
      "needs_background": "light"
     },
     "output_type": "display_data"
    }
   ],
   "source": [
    "# plotting the values \n",
    "plt.figure(figsize=(12,8))\n",
    "plt.plot(range(8), list_u[:, 0], label=\"first component\", color=\"blue\")\n",
    "plt.plot(range(8), np.ones(8)*0.6, linestyle='dashed', color=\"blue\")\n",
    "\n",
    "\n",
    "plt.plot(range(8), list_u[:, 1], label=\"second component\", color=\"orange\")\n",
    "plt.plot(range(8), np.ones(8)*0.4, linestyle='dashed', color=\"orange\")\n",
    "\n",
    "\n",
    "\n",
    "plt.ylim(0,1)\n",
    "plt.legend()"
   ]
  },
  {
   "cell_type": "code",
   "execution_count": 93,
   "id": "c76263db",
   "metadata": {},
   "outputs": [
    {
     "data": {
      "text/plain": [
       "<matplotlib.legend.Legend at 0x7fbbbbf13d00>"
      ]
     },
     "execution_count": 93,
     "metadata": {},
     "output_type": "execute_result"
    },
    {
     "data": {
      "image/png": "[encoded data removed]",
      "text/plain": [
       "<Figure size 864x576 with 1 Axes>"
      ]
     },
     "metadata": {
      "needs_background": "light"
     },
     "output_type": "display_data"
    }
   ],
   "source": [
    "# plotting the values \n",
    "plt.figure(figsize=(12,8))\n",
    "plt.plot(range(8), list_v[:, 0], label=\"first component\", color=\"blue\")\n",
    "plt.plot(range(8), np.ones(8)*0.6, linestyle='dashed', color=\"blue\")\n",
    "\n",
    "\n",
    "plt.plot(range(8), list_v[:, 1], label=\"second component\", color=\"orange\")\n",
    "plt.plot(range(8), np.ones(8)*0.4, linestyle='dashed', color=\"orange\")\n",
    "\n",
    "\n",
    "plt.ylim(0,1)\n",
    "plt.legend()"
   ]
  },
  {
   "cell_type": "markdown",
   "id": "b3b0811e",
   "metadata": {},
   "source": [
    "### For what value of s, will we have A*s = s"
   ]
  },
  {
   "cell_type": "code",
   "execution_count": 85,
   "id": "fd76cb00",
   "metadata": {},
   "outputs": [
    {
     "name": "stdout",
     "output_type": "stream",
     "text": [
      "[0.6 0.4]\n"
     ]
    }
   ],
   "source": [
    "s = np.array([0.6, 0.4])\n",
    "\n",
    "print(np.dot(A,s))"
   ]
  },
  {
   "cell_type": "code",
   "execution_count": null,
   "id": "d6610b20",
   "metadata": {},
   "outputs": [],
   "source": []
  }
 ],
 "metadata": {
  "kernelspec": {
   "display_name": "Python 3 (ipykernel)",
   "language": "python",
   "name": "python3"
  },
  "language_info": {
   "codemirror_mode": {
    "name": "ipython",
    "version": 3
   },
   "file_extension": ".py",
   "mimetype": "text/x-python",
   "name": "python",
   "nbconvert_exporter": "python",
   "pygments_lexer": "ipython3",
   "version": "3.8.5"
  }
 },
 "nbformat": 4,
 "nbformat_minor": 5
}
