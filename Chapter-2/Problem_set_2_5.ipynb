{
  "nbformat": 4,
  "nbformat_minor": 0,
  "metadata": {
    "colab": {
      "provenance": [],
      "authorship_tag": "ABX9TyMMbWFeufGrbQ/HPNU97YNE",
      "include_colab_link": true
    },
    "kernelspec": {
      "name": "python3",
      "display_name": "Python 3"
    },
    "language_info": {
      "name": "python"
    }
  },
  "cells": [
    {
      "cell_type": "markdown",
      "metadata": {
        "id": "view-in-github",
        "colab_type": "text"
      },
      "source": [
        "<a href=\"https://colab.research.google.com/github/hardikkamboj/Introduction_to_Linear_Algebra/blob/main/Chapter-2/Problem_set_2_5.ipynb\" target=\"_parent\"><img src=\"https://colab.research.google.com/assets/colab-badge.svg\" alt=\"Open In Colab\"/></a>"
      ]
    },
    {
      "cell_type": "markdown",
      "source": [
        "### Problem 36: The Hilbert matrices have Hij = 1 / (i + j - 1). Ask MATLAB for the exact 6 by 6 inverse invhilb(6). Then ask it to convert inverse (hilb(6)). How can these be different, when the computer nevere makes any mistake?"
      ],
      "metadata": {
        "id": "j__utTWsaJgY"
      }
    },
    {
      "cell_type": "code",
      "source": [
        "import scipy.linalg as linalg\n",
        "import numpy as np"
      ],
      "metadata": {
        "id": "cA7EGfpoYxQM"
      },
      "execution_count": 42,
      "outputs": []
    },
    {
      "cell_type": "code",
      "source": [
        "# let's first see what a hilbert matrix looks like\n",
        "\n",
        "hilbert = linalg.hilbert(6)\n",
        "\n",
        "print(hilbert)"
      ],
      "metadata": {
        "colab": {
          "base_uri": "https://localhost:8080/"
        },
        "id": "VYEX2idYY08J",
        "outputId": "57e74d69-7ae3-4e6a-ebaf-22b0a8528472"
      },
      "execution_count": 28,
      "outputs": [
        {
          "output_type": "stream",
          "name": "stdout",
          "text": [
            "[[1.         0.5        0.33333333 0.25       0.2        0.16666667]\n",
            " [0.5        0.33333333 0.25       0.2        0.16666667 0.14285714]\n",
            " [0.33333333 0.25       0.2        0.16666667 0.14285714 0.125     ]\n",
            " [0.25       0.2        0.16666667 0.14285714 0.125      0.11111111]\n",
            " [0.2        0.16666667 0.14285714 0.125      0.11111111 0.1       ]\n",
            " [0.16666667 0.14285714 0.125      0.11111111 0.1        0.09090909]]\n"
          ]
        }
      ]
    },
    {
      "cell_type": "code",
      "source": [
        "# get inverse hilbert using the function invhilbert\n",
        "inv_hilbert = linalg.invhilbert(6)\n",
        "\n",
        "print(inv_hilbert)"
      ],
      "metadata": {
        "colab": {
          "base_uri": "https://localhost:8080/"
        },
        "id": "Mp8WmxNnaVCJ",
        "outputId": "9b84b3e5-f792-46b1-d8c4-8abb3540591c"
      },
      "execution_count": 29,
      "outputs": [
        {
          "output_type": "stream",
          "name": "stdout",
          "text": [
            "[[ 3.60000e+01 -6.30000e+02  3.36000e+03 -7.56000e+03  7.56000e+03\n",
            "  -2.77200e+03]\n",
            " [-6.30000e+02  1.47000e+04 -8.82000e+04  2.11680e+05 -2.20500e+05\n",
            "   8.31600e+04]\n",
            " [ 3.36000e+03 -8.82000e+04  5.64480e+05 -1.41120e+06  1.51200e+06\n",
            "  -5.82120e+05]\n",
            " [-7.56000e+03  2.11680e+05 -1.41120e+06  3.62880e+06 -3.96900e+06\n",
            "   1.55232e+06]\n",
            " [ 7.56000e+03 -2.20500e+05  1.51200e+06 -3.96900e+06  4.41000e+06\n",
            "  -1.74636e+06]\n",
            " [-2.77200e+03  8.31600e+04 -5.82120e+05  1.55232e+06 -1.74636e+06\n",
            "   6.98544e+05]]\n"
          ]
        }
      ]
    },
    {
      "cell_type": "code",
      "source": [
        "# calculate inverse using inverse function\n",
        "\n",
        "inv_hilbert_2 = linalg.inv(hilbert)\n",
        "\n",
        "print(inv_hilbert_2)"
      ],
      "metadata": {
        "colab": {
          "base_uri": "https://localhost:8080/"
        },
        "id": "IPlzRIpEagK3",
        "outputId": "bb9c149b-a1ee-42a6-bdb7-dc7b0ced2fad"
      },
      "execution_count": 30,
      "outputs": [
        {
          "output_type": "stream",
          "name": "stdout",
          "text": [
            "[[ 3.60000e+01 -6.30000e+02  3.36000e+03 -7.56000e+03  7.56000e+03\n",
            "  -2.77200e+03]\n",
            " [-6.30000e+02  1.47000e+04 -8.82000e+04  2.11680e+05 -2.20500e+05\n",
            "   8.31600e+04]\n",
            " [ 3.36000e+03 -8.82000e+04  5.64480e+05 -1.41120e+06  1.51200e+06\n",
            "  -5.82120e+05]\n",
            " [-7.56000e+03  2.11680e+05 -1.41120e+06  3.62880e+06 -3.96900e+06\n",
            "   1.55232e+06]\n",
            " [ 7.56000e+03 -2.20500e+05  1.51200e+06 -3.96900e+06  4.41000e+06\n",
            "  -1.74636e+06]\n",
            " [-2.77200e+03  8.31600e+04 -5.82120e+05  1.55232e+06 -1.74636e+06\n",
            "   6.98544e+05]]\n"
          ]
        }
      ]
    },
    {
      "cell_type": "code",
      "source": [
        "# although they look similar, but there's a catch. let's look at the first and last element in both of the matrices\n",
        "inv_hilbert == inv_hilbert_2"
      ],
      "metadata": {
        "colab": {
          "base_uri": "https://localhost:8080/"
        },
        "id": "7wm0VsFNbHQT",
        "outputId": "809093f4-7e27-4dc2-f60d-36a2ac4e29e2"
      },
      "execution_count": 31,
      "outputs": [
        {
          "output_type": "execute_result",
          "data": {
            "text/plain": [
              "array([[False, False, False, False, False, False],\n",
              "       [False, False, False, False, False, False],\n",
              "       [False, False, False, False, False, False],\n",
              "       [False, False, False, False, False, False],\n",
              "       [False, False, False, False, False, False],\n",
              "       [False, False, False, False, False, False]])"
            ]
          },
          "metadata": {},
          "execution_count": 31
        }
      ]
    },
    {
      "cell_type": "code",
      "source": [
        "# Using the method linalg.invhilbert\n",
        "print(\"First element - \", inv_hilbert[0][0])\n",
        "print(\"Last  element - \", inv_hilbert[5][5])"
      ],
      "metadata": {
        "colab": {
          "base_uri": "https://localhost:8080/"
        },
        "id": "1RkOeu_NbRmT",
        "outputId": "059d1bab-3078-44c3-ac92-06e0ba55f33d"
      },
      "execution_count": 32,
      "outputs": [
        {
          "output_type": "stream",
          "name": "stdout",
          "text": [
            "First element -  36.0\n",
            "Last  element -  698544.0\n"
          ]
        }
      ]
    },
    {
      "cell_type": "code",
      "source": [
        "# using linalg.inv on hilbert\n",
        "print(\"First element - \", inv_hilbert_2[0][0])\n",
        "print(\"Last  element - \", inv_hilbert_2[5][5])"
      ],
      "metadata": {
        "colab": {
          "base_uri": "https://localhost:8080/"
        },
        "id": "BBlHVTt4basH",
        "outputId": "8c583d7b-6b30-4106-d963-4d6682f85091"
      },
      "execution_count": 33,
      "outputs": [
        {
          "output_type": "stream",
          "name": "stdout",
          "text": [
            "First element -  36.00000000190175\n",
            "Last  element -  698544.0000880137\n"
          ]
        }
      ]
    },
    {
      "cell_type": "markdown",
      "source": [
        "If we convert the datatytpe to int, then they are similar"
      ],
      "metadata": {
        "id": "6RTy3Jmob1qK"
      }
    },
    {
      "cell_type": "code",
      "source": [
        "inv_hilbert.astype(\"int\") == inv_hilbert_2.astype(\"int\")"
      ],
      "metadata": {
        "colab": {
          "base_uri": "https://localhost:8080/"
        },
        "id": "5_rfSL9vblML",
        "outputId": "3ed3bdfe-3ee0-4b87-9279-cf1f21b28a78"
      },
      "execution_count": 34,
      "outputs": [
        {
          "output_type": "execute_result",
          "data": {
            "text/plain": [
              "array([[ True,  True,  True,  True,  True,  True],\n",
              "       [ True,  True,  True,  True,  True,  True],\n",
              "       [ True,  True,  True,  True,  True,  True],\n",
              "       [ True,  True,  True,  True,  True,  True],\n",
              "       [ True,  True,  True,  True,  True,  True],\n",
              "       [ True,  True,  True,  True,  True,  True]])"
            ]
          },
          "metadata": {},
          "execution_count": 34
        }
      ]
    },
    {
      "cell_type": "markdown",
      "source": [
        "# Problem 37:\n",
        "\n",
        "a. Use inv(P) to invert MATLAB's 4 by 4 symmetric matrix P = Pascal(4)\n",
        "\n",
        "b. Create Pascal's lower triangular abs(pascal(4,1)) and test P = LL'."
      ],
      "metadata": {
        "id": "LInYX3ZObx_h"
      }
    },
    {
      "cell_type": "code",
      "source": [
        "P = linalg.pascal(4)\n",
        "P"
      ],
      "metadata": {
        "colab": {
          "base_uri": "https://localhost:8080/"
        },
        "id": "wXkAGtApc04R",
        "outputId": "e63c9548-6945-47bc-819a-b413c9b9cfb8"
      },
      "execution_count": 46,
      "outputs": [
        {
          "output_type": "execute_result",
          "data": {
            "text/plain": [
              "array([[ 1,  1,  1,  1],\n",
              "       [ 1,  2,  3,  4],\n",
              "       [ 1,  3,  6, 10],\n",
              "       [ 1,  4, 10, 20]], dtype=uint64)"
            ]
          },
          "metadata": {},
          "execution_count": 46
        }
      ]
    },
    {
      "cell_type": "code",
      "source": [
        "linalg.inv(P)"
      ],
      "metadata": {
        "id": "bU3w51uNeEwW",
        "colab": {
          "base_uri": "https://localhost:8080/"
        },
        "outputId": "27af0b6a-8e75-4aa5-afd9-4f16b0d99c0c"
      },
      "execution_count": 39,
      "outputs": [
        {
          "output_type": "execute_result",
          "data": {
            "text/plain": [
              "array([[  4.,  -6.,   4.,  -1.],\n",
              "       [ -6.,  14., -11.,   3.],\n",
              "       [  4., -11.,  10.,  -3.],\n",
              "       [ -1.,   3.,  -3.,   1.]])"
            ]
          },
          "metadata": {},
          "execution_count": 39
        }
      ]
    },
    {
      "cell_type": "code",
      "source": [
        "L = linalg.pascal(4, kind = \"lower\")\n",
        "\n",
        "L"
      ],
      "metadata": {
        "colab": {
          "base_uri": "https://localhost:8080/"
        },
        "id": "zuAAZgmUwqSF",
        "outputId": "41acce14-6e85-42ef-c2d6-f5a1d09fad40"
      },
      "execution_count": 41,
      "outputs": [
        {
          "output_type": "execute_result",
          "data": {
            "text/plain": [
              "array([[1, 0, 0, 0],\n",
              "       [1, 1, 0, 0],\n",
              "       [1, 2, 1, 0],\n",
              "       [1, 3, 3, 1]], dtype=uint64)"
            ]
          },
          "metadata": {},
          "execution_count": 41
        }
      ]
    },
    {
      "cell_type": "code",
      "source": [
        "# test P = L*L'\n",
        "\n",
        "L@np.transpose(L)"
      ],
      "metadata": {
        "colab": {
          "base_uri": "https://localhost:8080/"
        },
        "id": "vG8BTfJaw9iz",
        "outputId": "efe59551-cf5a-4a9f-9597-c238ab02a829"
      },
      "execution_count": 44,
      "outputs": [
        {
          "output_type": "execute_result",
          "data": {
            "text/plain": [
              "array([[ 1,  1,  1,  1],\n",
              "       [ 1,  2,  3,  4],\n",
              "       [ 1,  3,  6, 10],\n",
              "       [ 1,  4, 10, 20]], dtype=uint64)"
            ]
          },
          "metadata": {},
          "execution_count": 44
        }
      ]
    },
    {
      "cell_type": "code",
      "source": [
        "(P == L@np.transpose(L)).all()"
      ],
      "metadata": {
        "colab": {
          "base_uri": "https://localhost:8080/"
        },
        "id": "tyLu4opyxSyI",
        "outputId": "813e5439-48b5-4df0-8ad1-0c535f825d82"
      },
      "execution_count": 48,
      "outputs": [
        {
          "output_type": "execute_result",
          "data": {
            "text/plain": [
              "True"
            ]
          },
          "metadata": {},
          "execution_count": 48
        }
      ]
    },
    {
      "cell_type": "markdown",
      "source": [
        "### Problem 38. If A = ones(4) and b = rand(4, 1), how does MATLAB tell you that Ax=b has no solution? For the special b = ones(4,1), which solution is found to Ax=b by A / b?"
      ],
      "metadata": {
        "id": "iiMJqiobxX83"
      }
    },
    {
      "cell_type": "code",
      "source": [
        "A = np.ones((4,4))\n",
        "b = np.random.rand(4,1)\n",
        "\n",
        "print(A)\n",
        "print(\"\")\n",
        "print(b)"
      ],
      "metadata": {
        "colab": {
          "base_uri": "https://localhost:8080/"
        },
        "id": "L9ijAC48yRIe",
        "outputId": "a1c77a55-0091-4092-bc49-5097bc3b7ae9"
      },
      "execution_count": 55,
      "outputs": [
        {
          "output_type": "stream",
          "name": "stdout",
          "text": [
            "[[1. 1. 1. 1.]\n",
            " [1. 1. 1. 1.]\n",
            " [1. 1. 1. 1.]\n",
            " [1. 1. 1. 1.]]\n",
            "\n",
            "[[0.81447213]\n",
            " [0.74180632]\n",
            " [0.65111386]\n",
            " [0.50084777]]\n"
          ]
        }
      ]
    },
    {
      "cell_type": "code",
      "source": [
        "# For Ax=B to have a soltion, X = A-1*B. So, inverse of A should exist. In this case A is a singular matrix\n",
        "\n",
        "linalg.solve(A, b)"
      ],
      "metadata": {
        "colab": {
          "base_uri": "https://localhost:8080/",
          "height": 329
        },
        "id": "WmtJeeuWyXi5",
        "outputId": "94e14539-ae1c-460b-a9ed-2b1a33791ee6"
      },
      "execution_count": 59,
      "outputs": [
        {
          "output_type": "error",
          "ename": "LinAlgError",
          "evalue": "Matrix is singular.",
          "traceback": [
            "\u001b[0;31m---------------------------------------------------------------------------\u001b[0m",
            "\u001b[0;31mLinAlgError\u001b[0m                               Traceback (most recent call last)",
            "\u001b[0;32m<ipython-input-59-40e205107652>\u001b[0m in \u001b[0;36m<cell line: 3>\u001b[0;34m()\u001b[0m\n\u001b[1;32m      1\u001b[0m \u001b[0;31m# For Ax=B to have a soltion, X = A-1*B. So, inverse of A should exist. In this case A is a singular matrix\u001b[0m\u001b[0;34m\u001b[0m\u001b[0;34m\u001b[0m\u001b[0m\n\u001b[1;32m      2\u001b[0m \u001b[0;34m\u001b[0m\u001b[0m\n\u001b[0;32m----> 3\u001b[0;31m \u001b[0mlinalg\u001b[0m\u001b[0;34m.\u001b[0m\u001b[0msolve\u001b[0m\u001b[0;34m(\u001b[0m\u001b[0mA\u001b[0m\u001b[0;34m,\u001b[0m \u001b[0mb\u001b[0m\u001b[0;34m)\u001b[0m\u001b[0;34m\u001b[0m\u001b[0;34m\u001b[0m\u001b[0m\n\u001b[0m",
            "\u001b[0;32m/usr/local/lib/python3.10/dist-packages/scipy/linalg/_basic.py\u001b[0m in \u001b[0;36msolve\u001b[0;34m(a, b, lower, overwrite_a, overwrite_b, check_finite, assume_a, transposed)\u001b[0m\n\u001b[1;32m    218\u001b[0m                                                (a1, b1))\n\u001b[1;32m    219\u001b[0m         \u001b[0mlu\u001b[0m\u001b[0;34m,\u001b[0m \u001b[0mipvt\u001b[0m\u001b[0;34m,\u001b[0m \u001b[0minfo\u001b[0m \u001b[0;34m=\u001b[0m \u001b[0mgetrf\u001b[0m\u001b[0;34m(\u001b[0m\u001b[0ma1\u001b[0m\u001b[0;34m,\u001b[0m \u001b[0moverwrite_a\u001b[0m\u001b[0;34m=\u001b[0m\u001b[0moverwrite_a\u001b[0m\u001b[0;34m)\u001b[0m\u001b[0;34m\u001b[0m\u001b[0;34m\u001b[0m\u001b[0m\n\u001b[0;32m--> 220\u001b[0;31m         \u001b[0m_solve_check\u001b[0m\u001b[0;34m(\u001b[0m\u001b[0mn\u001b[0m\u001b[0;34m,\u001b[0m \u001b[0minfo\u001b[0m\u001b[0;34m)\u001b[0m\u001b[0;34m\u001b[0m\u001b[0;34m\u001b[0m\u001b[0m\n\u001b[0m\u001b[1;32m    221\u001b[0m         x, info = getrs(lu, ipvt, b1,\n\u001b[1;32m    222\u001b[0m                         trans=trans, overwrite_b=overwrite_b)\n",
            "\u001b[0;32m/usr/local/lib/python3.10/dist-packages/scipy/linalg/_basic.py\u001b[0m in \u001b[0;36m_solve_check\u001b[0;34m(n, info, lamch, rcond)\u001b[0m\n\u001b[1;32m     39\u001b[0m                          '.'.format(-info))\n\u001b[1;32m     40\u001b[0m     \u001b[0;32melif\u001b[0m \u001b[0;36m0\u001b[0m \u001b[0;34m<\u001b[0m \u001b[0minfo\u001b[0m\u001b[0;34m:\u001b[0m\u001b[0;34m\u001b[0m\u001b[0;34m\u001b[0m\u001b[0m\n\u001b[0;32m---> 41\u001b[0;31m         \u001b[0;32mraise\u001b[0m \u001b[0mLinAlgError\u001b[0m\u001b[0;34m(\u001b[0m\u001b[0;34m'Matrix is singular.'\u001b[0m\u001b[0;34m)\u001b[0m\u001b[0;34m\u001b[0m\u001b[0;34m\u001b[0m\u001b[0m\n\u001b[0m\u001b[1;32m     42\u001b[0m \u001b[0;34m\u001b[0m\u001b[0m\n\u001b[1;32m     43\u001b[0m     \u001b[0;32mif\u001b[0m \u001b[0mlamch\u001b[0m \u001b[0;32mis\u001b[0m \u001b[0;32mNone\u001b[0m\u001b[0;34m:\u001b[0m\u001b[0;34m\u001b[0m\u001b[0;34m\u001b[0m\u001b[0m\n",
            "\u001b[0;31mLinAlgError\u001b[0m: Matrix is singular."
          ]
        }
      ]
    },
    {
      "cell_type": "code",
      "source": [
        "b = np.ones((4,1))\n",
        "\n",
        "linalg.solve(A, b)"
      ],
      "metadata": {
        "colab": {
          "base_uri": "https://localhost:8080/",
          "height": 329
        },
        "id": "BbdSmvndye-t",
        "outputId": "5e11de74-d20a-4e60-8151-3d5c0bc8363d"
      },
      "execution_count": 60,
      "outputs": [
        {
          "output_type": "error",
          "ename": "LinAlgError",
          "evalue": "Matrix is singular.",
          "traceback": [
            "\u001b[0;31m---------------------------------------------------------------------------\u001b[0m",
            "\u001b[0;31mLinAlgError\u001b[0m                               Traceback (most recent call last)",
            "\u001b[0;32m<ipython-input-60-c34014dd76cd>\u001b[0m in \u001b[0;36m<cell line: 3>\u001b[0;34m()\u001b[0m\n\u001b[1;32m      1\u001b[0m \u001b[0mb\u001b[0m \u001b[0;34m=\u001b[0m \u001b[0mnp\u001b[0m\u001b[0;34m.\u001b[0m\u001b[0mones\u001b[0m\u001b[0;34m(\u001b[0m\u001b[0;34m(\u001b[0m\u001b[0;36m4\u001b[0m\u001b[0;34m,\u001b[0m\u001b[0;36m1\u001b[0m\u001b[0;34m)\u001b[0m\u001b[0;34m)\u001b[0m\u001b[0;34m\u001b[0m\u001b[0;34m\u001b[0m\u001b[0m\n\u001b[1;32m      2\u001b[0m \u001b[0;34m\u001b[0m\u001b[0m\n\u001b[0;32m----> 3\u001b[0;31m \u001b[0mlinalg\u001b[0m\u001b[0;34m.\u001b[0m\u001b[0msolve\u001b[0m\u001b[0;34m(\u001b[0m\u001b[0mA\u001b[0m\u001b[0;34m,\u001b[0m \u001b[0mb\u001b[0m\u001b[0;34m)\u001b[0m\u001b[0;34m\u001b[0m\u001b[0;34m\u001b[0m\u001b[0m\n\u001b[0m",
            "\u001b[0;32m/usr/local/lib/python3.10/dist-packages/scipy/linalg/_basic.py\u001b[0m in \u001b[0;36msolve\u001b[0;34m(a, b, lower, overwrite_a, overwrite_b, check_finite, assume_a, transposed)\u001b[0m\n\u001b[1;32m    218\u001b[0m                                                (a1, b1))\n\u001b[1;32m    219\u001b[0m         \u001b[0mlu\u001b[0m\u001b[0;34m,\u001b[0m \u001b[0mipvt\u001b[0m\u001b[0;34m,\u001b[0m \u001b[0minfo\u001b[0m \u001b[0;34m=\u001b[0m \u001b[0mgetrf\u001b[0m\u001b[0;34m(\u001b[0m\u001b[0ma1\u001b[0m\u001b[0;34m,\u001b[0m \u001b[0moverwrite_a\u001b[0m\u001b[0;34m=\u001b[0m\u001b[0moverwrite_a\u001b[0m\u001b[0;34m)\u001b[0m\u001b[0;34m\u001b[0m\u001b[0;34m\u001b[0m\u001b[0m\n\u001b[0;32m--> 220\u001b[0;31m         \u001b[0m_solve_check\u001b[0m\u001b[0;34m(\u001b[0m\u001b[0mn\u001b[0m\u001b[0;34m,\u001b[0m \u001b[0minfo\u001b[0m\u001b[0;34m)\u001b[0m\u001b[0;34m\u001b[0m\u001b[0;34m\u001b[0m\u001b[0m\n\u001b[0m\u001b[1;32m    221\u001b[0m         x, info = getrs(lu, ipvt, b1,\n\u001b[1;32m    222\u001b[0m                         trans=trans, overwrite_b=overwrite_b)\n",
            "\u001b[0;32m/usr/local/lib/python3.10/dist-packages/scipy/linalg/_basic.py\u001b[0m in \u001b[0;36m_solve_check\u001b[0;34m(n, info, lamch, rcond)\u001b[0m\n\u001b[1;32m     39\u001b[0m                          '.'.format(-info))\n\u001b[1;32m     40\u001b[0m     \u001b[0;32melif\u001b[0m \u001b[0;36m0\u001b[0m \u001b[0;34m<\u001b[0m \u001b[0minfo\u001b[0m\u001b[0;34m:\u001b[0m\u001b[0;34m\u001b[0m\u001b[0;34m\u001b[0m\u001b[0m\n\u001b[0;32m---> 41\u001b[0;31m         \u001b[0;32mraise\u001b[0m \u001b[0mLinAlgError\u001b[0m\u001b[0;34m(\u001b[0m\u001b[0;34m'Matrix is singular.'\u001b[0m\u001b[0;34m)\u001b[0m\u001b[0;34m\u001b[0m\u001b[0;34m\u001b[0m\u001b[0m\n\u001b[0m\u001b[1;32m     42\u001b[0m \u001b[0;34m\u001b[0m\u001b[0m\n\u001b[1;32m     43\u001b[0m     \u001b[0;32mif\u001b[0m \u001b[0mlamch\u001b[0m \u001b[0;32mis\u001b[0m \u001b[0;32mNone\u001b[0m\u001b[0;34m:\u001b[0m\u001b[0;34m\u001b[0m\u001b[0;34m\u001b[0m\u001b[0m\n",
            "\u001b[0;31mLinAlgError\u001b[0m: Matrix is singular."
          ]
        }
      ]
    },
    {
      "cell_type": "code",
      "source": [],
      "metadata": {
        "id": "fw5MXMeMzeWS"
      },
      "execution_count": null,
      "outputs": []
    }
  ]
}