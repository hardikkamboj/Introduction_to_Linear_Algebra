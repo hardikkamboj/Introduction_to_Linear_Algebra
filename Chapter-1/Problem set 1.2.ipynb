{
 "cells": [
  {
   "cell_type": "markdown",
   "id": "56d11149",
   "metadata": {},
   "source": [
    "# Problem - 34"
   ]
  },
  {
   "cell_type": "markdown",
   "id": "b628d261",
   "metadata": {},
   "source": [
    "### Using v = randn(3,1) in MATLAB, create a random unit vector u = v / ||v||. Using V = randn(3,30) create 30 more random unit vectors Uj, What is the average size of the dot products |u.Uj|? "
   ]
  },
  {
   "cell_type": "code",
   "execution_count": 1,
   "id": "dbe8ffdc",
   "metadata": {},
   "outputs": [],
   "source": [
    "# import numpy module \n",
    "import numpy as np "
   ]
  },
  {
   "cell_type": "code",
   "execution_count": 30,
   "id": "6e8cd340",
   "metadata": {},
   "outputs": [],
   "source": [
    "# a function to calculate length of a given vector\n",
    "def length(x):\n",
    "    return np.sqrt(np.sum(x**2))"
   ]
  },
  {
   "cell_type": "code",
   "execution_count": 37,
   "id": "e25c0b86",
   "metadata": {},
   "outputs": [],
   "source": [
    "# define v\n",
    "# In pyhton we need to pass (1,3) instead of (3,1) as in matlab\n",
    "v = np.random.normal(size=(1,3))"
   ]
  },
  {
   "cell_type": "code",
   "execution_count": 43,
   "id": "524cea1d",
   "metadata": {},
   "outputs": [
    {
     "name": "stdout",
     "output_type": "stream",
     "text": [
      "Length of v is  1.6522512320933063\n"
     ]
    }
   ],
   "source": [
    "len_v = length(v[0])\n",
    "print(\"Length of v is \", len_v)"
   ]
  },
  {
   "cell_type": "code",
   "execution_count": 44,
   "id": "bc9ee686",
   "metadata": {},
   "outputs": [
    {
     "name": "stdout",
     "output_type": "stream",
     "text": [
      "Length of unit vector u is  0.9999999999999999\n"
     ]
    }
   ],
   "source": [
    "u = v / len_v\n",
    "\n",
    "print(\"Length of unit vector u is \", length(u))"
   ]
  },
  {
   "cell_type": "code",
   "execution_count": 45,
   "id": "b282363a",
   "metadata": {},
   "outputs": [],
   "source": [
    "V = np.random.normal(size=(30,3))"
   ]
  },
  {
   "cell_type": "code",
   "execution_count": 48,
   "id": "c51eae1f",
   "metadata": {},
   "outputs": [],
   "source": [
    "dot_products = []\n",
    "for vector in V:\n",
    "    dot_products.append(abs(np.dot(vector, u[0])))"
   ]
  },
  {
   "cell_type": "code",
   "execution_count": 51,
   "id": "c0780db0",
   "metadata": {},
   "outputs": [
    {
     "name": "stdout",
     "output_type": "stream",
     "text": [
      "Average Value of dot products is -  0.8800574117895273\n"
     ]
    }
   ],
   "source": [
    "print(\"Average Value of dot products is - \",sum(dot_products) / len(dot_products))"
   ]
  },
  {
   "cell_type": "code",
   "execution_count": null,
   "id": "1f883d62",
   "metadata": {},
   "outputs": [],
   "source": []
  }
 ],
 "metadata": {
  "kernelspec": {
   "display_name": "Python 3 (ipykernel)",
   "language": "python",
   "name": "python3"
  },
  "language_info": {
   "codemirror_mode": {
    "name": "ipython",
    "version": 3
   },
   "file_extension": ".py",
   "mimetype": "text/x-python",
   "name": "python",
   "nbconvert_exporter": "python",
   "pygments_lexer": "ipython3",
   "version": "3.8.5"
  }
 },
 "nbformat": 4,
 "nbformat_minor": 5
}
